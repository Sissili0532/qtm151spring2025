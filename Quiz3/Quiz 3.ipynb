{
 "cells": [
  {
   "attachments": {},
   "cell_type": "markdown",
   "metadata": {},
   "source": [
    "# <span style=\"color:darkblue\"> QTM 151 - Quiz 3 </span>"
   ]
  },
  {
   "attachments": {},
   "cell_type": "markdown",
   "metadata": {},
   "source": [
    "## Try to submit as an HTML file"
   ]
  },
  {
   "attachments": {},
   "cell_type": "markdown",
   "metadata": {},
   "source": [
    "<font size=\"5\"> \n",
    "\n",
    "Print your name below"
   ]
  },
  {
   "cell_type": "code",
   "execution_count": 1,
   "metadata": {},
   "outputs": [
    {
     "name": "stdout",
     "output_type": "stream",
     "text": [
      "Sissi Li\n"
     ]
    }
   ],
   "source": [
    "# Write your answer here\n",
    "\n",
    "print(\"Sissi Li\")\n",
    "\n"
   ]
  },
  {
   "attachments": {},
   "cell_type": "markdown",
   "metadata": {},
   "source": [
    "<font size = \"5\" >\n",
    "This quiz is open book \n",
    "\n",
    "- You can use the lecture notes\n",
    "- You will get partial credit for attempting the questions\n",
    "- To get full credit, the code should run as intended\n",
    "- You should <span style=\"color:red\"> NOT </span> communicate with other students\n",
    "\n",
    "Print the following message: <br>\n",
    "\n",
    "\"I will abide by Emory's code of conduct\"\n"
   ]
  },
  {
   "cell_type": "code",
   "execution_count": 2,
   "metadata": {},
   "outputs": [
    {
     "name": "stdout",
     "output_type": "stream",
     "text": [
      "I will abide by Emory's code of conduct\n"
     ]
    }
   ],
   "source": [
    "# Write your answer here:\n",
    "\n",
    "print(\"I will abide by Emory's code of conduct\")\n",
    "\n"
   ]
  },
  {
   "attachments": {},
   "cell_type": "markdown",
   "metadata": {},
   "source": [
    "<font size = \"5\">\n",
    "\n",
    "Import the libraries \"numpy\" and \"pandas\""
   ]
  },
  {
   "cell_type": "code",
   "execution_count": 12,
   "metadata": {},
   "outputs": [],
   "source": [
    "# Write your answer here\n",
    "\n",
    "import numpy as np\n",
    "import pandas as pd\n",
    "\n"
   ]
  },
  {
   "cell_type": "markdown",
   "metadata": {},
   "source": [
    "\n",
    "<font size = \"5\">\n",
    "\n",
    "(a) Replace the values of a column\n",
    "\n",
    "<font size = \"3\">\n",
    "\n",
    "- Import the \"data_raw/constructors.csv\" file\n",
    "- Replace the values \"British\", \"Japanese\", and \"Irish\" with <br>\n",
    "\"UK\", \"Japan\", \"Ireland\" in the column \"nationality\"\n",
    "\n",
    "\n",
    "HINT: See the example in Lecture 12"
   ]
  },
  {
   "cell_type": "code",
   "execution_count": 4,
   "metadata": {},
   "outputs": [
    {
     "data": {
      "text/html": [
       "<div>\n",
       "<style scoped>\n",
       "    .dataframe tbody tr th:only-of-type {\n",
       "        vertical-align: middle;\n",
       "    }\n",
       "\n",
       "    .dataframe tbody tr th {\n",
       "        vertical-align: top;\n",
       "    }\n",
       "\n",
       "    .dataframe thead th {\n",
       "        text-align: right;\n",
       "    }\n",
       "</style>\n",
       "<table border=\"1\" class=\"dataframe\">\n",
       "  <thead>\n",
       "    <tr style=\"text-align: right;\">\n",
       "      <th></th>\n",
       "      <th>constructorId</th>\n",
       "      <th>constructorRef</th>\n",
       "      <th>name</th>\n",
       "      <th>nationality</th>\n",
       "      <th>url</th>\n",
       "    </tr>\n",
       "  </thead>\n",
       "  <tbody>\n",
       "    <tr>\n",
       "      <th>0</th>\n",
       "      <td>1</td>\n",
       "      <td>mclaren</td>\n",
       "      <td>McLaren</td>\n",
       "      <td>UK</td>\n",
       "      <td>http://en.wikipedia.org/wiki/McLaren</td>\n",
       "    </tr>\n",
       "    <tr>\n",
       "      <th>1</th>\n",
       "      <td>2</td>\n",
       "      <td>bmw_sauber</td>\n",
       "      <td>BMW Sauber</td>\n",
       "      <td>German</td>\n",
       "      <td>http://en.wikipedia.org/wiki/BMW_Sauber</td>\n",
       "    </tr>\n",
       "    <tr>\n",
       "      <th>2</th>\n",
       "      <td>3</td>\n",
       "      <td>williams</td>\n",
       "      <td>Williams</td>\n",
       "      <td>UK</td>\n",
       "      <td>http://en.wikipedia.org/wiki/Williams_Grand_Pr...</td>\n",
       "    </tr>\n",
       "    <tr>\n",
       "      <th>3</th>\n",
       "      <td>4</td>\n",
       "      <td>renault</td>\n",
       "      <td>Renault</td>\n",
       "      <td>French</td>\n",
       "      <td>http://en.wikipedia.org/wiki/Renault_in_Formul...</td>\n",
       "    </tr>\n",
       "    <tr>\n",
       "      <th>4</th>\n",
       "      <td>5</td>\n",
       "      <td>toro_rosso</td>\n",
       "      <td>Toro Rosso</td>\n",
       "      <td>Italian</td>\n",
       "      <td>http://en.wikipedia.org/wiki/Scuderia_Toro_Rosso</td>\n",
       "    </tr>\n",
       "    <tr>\n",
       "      <th>...</th>\n",
       "      <td>...</td>\n",
       "      <td>...</td>\n",
       "      <td>...</td>\n",
       "      <td>...</td>\n",
       "      <td>...</td>\n",
       "    </tr>\n",
       "    <tr>\n",
       "      <th>206</th>\n",
       "      <td>209</td>\n",
       "      <td>manor</td>\n",
       "      <td>Manor Marussia</td>\n",
       "      <td>UK</td>\n",
       "      <td>http://en.wikipedia.org/wiki/Manor_Motorsport</td>\n",
       "    </tr>\n",
       "    <tr>\n",
       "      <th>207</th>\n",
       "      <td>210</td>\n",
       "      <td>haas</td>\n",
       "      <td>Haas F1 Team</td>\n",
       "      <td>American</td>\n",
       "      <td>http://en.wikipedia.org/wiki/Haas_F1_Team</td>\n",
       "    </tr>\n",
       "    <tr>\n",
       "      <th>208</th>\n",
       "      <td>211</td>\n",
       "      <td>racing_point</td>\n",
       "      <td>Racing Point</td>\n",
       "      <td>UK</td>\n",
       "      <td>http://en.wikipedia.org/wiki/Racing_Point_F1_Team</td>\n",
       "    </tr>\n",
       "    <tr>\n",
       "      <th>209</th>\n",
       "      <td>213</td>\n",
       "      <td>alphatauri</td>\n",
       "      <td>AlphaTauri</td>\n",
       "      <td>Italian</td>\n",
       "      <td>http://en.wikipedia.org/wiki/Scuderia_AlphaTauri</td>\n",
       "    </tr>\n",
       "    <tr>\n",
       "      <th>210</th>\n",
       "      <td>214</td>\n",
       "      <td>alpine</td>\n",
       "      <td>Alpine F1 Team</td>\n",
       "      <td>French</td>\n",
       "      <td>http://en.wikipedia.org/wiki/Alpine_F1_Team</td>\n",
       "    </tr>\n",
       "  </tbody>\n",
       "</table>\n",
       "<p>211 rows × 5 columns</p>\n",
       "</div>"
      ],
      "text/plain": [
       "     constructorId constructorRef            name nationality  \\\n",
       "0                1        mclaren         McLaren          UK   \n",
       "1                2     bmw_sauber      BMW Sauber      German   \n",
       "2                3       williams        Williams          UK   \n",
       "3                4        renault         Renault      French   \n",
       "4                5     toro_rosso      Toro Rosso     Italian   \n",
       "..             ...            ...             ...         ...   \n",
       "206            209          manor  Manor Marussia          UK   \n",
       "207            210           haas    Haas F1 Team    American   \n",
       "208            211   racing_point    Racing Point          UK   \n",
       "209            213     alphatauri      AlphaTauri     Italian   \n",
       "210            214         alpine  Alpine F1 Team      French   \n",
       "\n",
       "                                                   url  \n",
       "0                 http://en.wikipedia.org/wiki/McLaren  \n",
       "1              http://en.wikipedia.org/wiki/BMW_Sauber  \n",
       "2    http://en.wikipedia.org/wiki/Williams_Grand_Pr...  \n",
       "3    http://en.wikipedia.org/wiki/Renault_in_Formul...  \n",
       "4     http://en.wikipedia.org/wiki/Scuderia_Toro_Rosso  \n",
       "..                                                 ...  \n",
       "206      http://en.wikipedia.org/wiki/Manor_Motorsport  \n",
       "207          http://en.wikipedia.org/wiki/Haas_F1_Team  \n",
       "208  http://en.wikipedia.org/wiki/Racing_Point_F1_Team  \n",
       "209   http://en.wikipedia.org/wiki/Scuderia_AlphaTauri  \n",
       "210        http://en.wikipedia.org/wiki/Alpine_F1_Team  \n",
       "\n",
       "[211 rows x 5 columns]"
      ]
     },
     "execution_count": 4,
     "metadata": {},
     "output_type": "execute_result"
    }
   ],
   "source": [
    "# Write your own code\n",
    "\n",
    "df_constructors = pd.read_csv(\"data_raw/constructors.csv\")\n",
    "list_old = [\"British\", \"Japanese\",\"Irish\"]\n",
    "list_new = [\"UK\", \"Japan\", \"Ireland\"]\n",
    "df_constructors[\"nationality\"] = df_constructors[\"nationality\"].replace(list_old,list_new)\n",
    "\n",
    "df_constructors\n",
    "\n"
   ]
  },
  {
   "attachments": {},
   "cell_type": "markdown",
   "metadata": {},
   "source": [
    "<font size = \"5\">\n",
    "\n",
    "(b) Aggregate and query\n",
    "\n",
    "<font size = \"3\">\n",
    "\n",
    "- Import the \"data_raw/sprint_results.csv\" file\n",
    "- Subset the observations for 'constructorId == 3' using ```.query()```\n",
    "- Obtain the maximum of \"laps\" by \"driverId\" <br> \n",
    " using ``` .groupby().agg() ```\n",
    "- Subset the drivers with a maximum of laps $\\ge 10$\n",
    "- Store the results of all these operations in a dataframe <br>\n",
    "```sprint_results_agg ```"
   ]
  },
  {
   "cell_type": "code",
   "execution_count": 5,
   "metadata": {},
   "outputs": [
    {
     "data": {
      "text/html": [
       "<div>\n",
       "<style scoped>\n",
       "    .dataframe tbody tr th:only-of-type {\n",
       "        vertical-align: middle;\n",
       "    }\n",
       "\n",
       "    .dataframe tbody tr th {\n",
       "        vertical-align: top;\n",
       "    }\n",
       "\n",
       "    .dataframe thead th {\n",
       "        text-align: right;\n",
       "    }\n",
       "</style>\n",
       "<table border=\"1\" class=\"dataframe\">\n",
       "  <thead>\n",
       "    <tr style=\"text-align: right;\">\n",
       "      <th></th>\n",
       "      <th>max_laps</th>\n",
       "    </tr>\n",
       "    <tr>\n",
       "      <th>driverId</th>\n",
       "      <th></th>\n",
       "    </tr>\n",
       "  </thead>\n",
       "  <tbody>\n",
       "    <tr>\n",
       "      <th>847</th>\n",
       "      <td>24</td>\n",
       "    </tr>\n",
       "    <tr>\n",
       "      <th>848</th>\n",
       "      <td>23</td>\n",
       "    </tr>\n",
       "    <tr>\n",
       "      <th>849</th>\n",
       "      <td>24</td>\n",
       "    </tr>\n",
       "  </tbody>\n",
       "</table>\n",
       "</div>"
      ],
      "text/plain": [
       "          max_laps\n",
       "driverId          \n",
       "847             24\n",
       "848             23\n",
       "849             24"
      ]
     },
     "execution_count": 5,
     "metadata": {},
     "output_type": "execute_result"
    }
   ],
   "source": [
    "# Write your own code\n",
    "df_sprint = pd.read_csv(\"data_raw/sprint_results.csv\")\n",
    "\n",
    "aggregate_data = df_sprint.query('constructorId == 3').groupby(\"driverId\").agg(max_laps = (\"laps\",\"max\"))\n",
    "\n",
    "# df_sprint.query('laps >= 10')[[\"driverId\",\"laps\"]]\n",
    "sprint_results_agg = aggregate_data[aggregate_data['max_laps'] >= 10]\n",
    "sprint_results_agg\n",
    "\n"
   ]
  },
  {
   "attachments": {},
   "cell_type": "markdown",
   "metadata": {},
   "source": [
    "<font size = \"5\">\n",
    "\n",
    "(c) Recode a numeric colum\n",
    "\n",
    "<font size = \"3\">\n",
    "\n",
    "- Import the \"data_raw/races.csv\" file\n",
    "- Recode the \"year\" column into a new column \"year_brackets\" <br>\n",
    "with the following categories\n",
    "\n",
    "$\\qquad$ ``` [\"1950-1965\",\"1966-1980\",\"1980-onwards\"] ```\n",
    "\n",
    "$\\qquad$ HINT: Use the \"pd.cut()\" command."
   ]
  },
  {
   "cell_type": "code",
   "execution_count": 6,
   "metadata": {},
   "outputs": [
    {
     "name": "stdout",
     "output_type": "stream",
     "text": [
      "      raceId  year  round  circuitId                      name        date  \\\n",
      "0          1  2009      1          1     Australian Grand Prix  2009-03-29   \n",
      "1          2  2009      2          2      Malaysian Grand Prix  2009-04-05   \n",
      "2          3  2009      3         17        Chinese Grand Prix  2009-04-19   \n",
      "3          4  2009      4          3        Bahrain Grand Prix  2009-04-26   \n",
      "4          5  2009      5          4        Spanish Grand Prix  2009-05-10   \n",
      "...      ...   ...    ...        ...                       ...         ...   \n",
      "1097    1116  2023     19         69  United States Grand Prix  2023-10-22   \n",
      "1098    1117  2023     20         32    Mexico City Grand Prix  2023-10-29   \n",
      "1099    1118  2023     21         18      São Paulo Grand Prix  2023-11-05   \n",
      "1100    1119  2023     22         80      Las Vegas Grand Prix  2023-11-19   \n",
      "1101    1120  2023     23         24      Abu Dhabi Grand Prix  2023-11-26   \n",
      "\n",
      "          time                                                url    fp1_date  \\\n",
      "0     06:00:00  http://en.wikipedia.org/wiki/2009_Australian_G...          \\N   \n",
      "1     09:00:00  http://en.wikipedia.org/wiki/2009_Malaysian_Gr...          \\N   \n",
      "2     07:00:00  http://en.wikipedia.org/wiki/2009_Chinese_Gran...          \\N   \n",
      "3     12:00:00  http://en.wikipedia.org/wiki/2009_Bahrain_Gran...          \\N   \n",
      "4     12:00:00  http://en.wikipedia.org/wiki/2009_Spanish_Gran...          \\N   \n",
      "...        ...                                                ...         ...   \n",
      "1097  19:00:00  https://en.wikipedia.org/wiki/2023_United_Stat...  2023-10-20   \n",
      "1098  20:00:00  https://en.wikipedia.org/wiki/2023_Mexico_City...  2023-10-27   \n",
      "1099  17:00:00  https://en.wikipedia.org/wiki/2023_S%C3%A3o_Pa...  2023-11-03   \n",
      "1100  06:00:00  https://en.wikipedia.org/wiki/2023_Las_Vegas_G...  2023-11-17   \n",
      "1101  13:00:00  https://en.wikipedia.org/wiki/2023_Abu_Dhabi_G...  2023-11-24   \n",
      "\n",
      "      fp1_time    fp2_date  fp2_time    fp3_date  fp3_time  quali_date  \\\n",
      "0           \\N          \\N        \\N          \\N        \\N          \\N   \n",
      "1           \\N          \\N        \\N          \\N        \\N          \\N   \n",
      "2           \\N          \\N        \\N          \\N        \\N          \\N   \n",
      "3           \\N          \\N        \\N          \\N        \\N          \\N   \n",
      "4           \\N          \\N        \\N          \\N        \\N          \\N   \n",
      "...        ...         ...       ...         ...       ...         ...   \n",
      "1097  17:30:00  2023-10-21  18:00:00          \\N        \\N  2023-10-20   \n",
      "1098  18:30:00  2023-10-27  22:00:00  2023-10-28  17:30:00  2023-10-28   \n",
      "1099  14:30:00  2023-11-04  14:30:00          \\N        \\N  2023-11-03   \n",
      "1100  04:30:00  2023-11-17  08:00:00  2023-11-18  04:30:00  2023-11-18   \n",
      "1101  09:30:00  2023-11-24  13:00:00  2023-11-25  10:30:00  2023-11-25   \n",
      "\n",
      "     quali_time sprint_date sprint_time year_brackets  \n",
      "0            \\N          \\N          \\N  1980-onwards  \n",
      "1            \\N          \\N          \\N  1980-onwards  \n",
      "2            \\N          \\N          \\N  1980-onwards  \n",
      "3            \\N          \\N          \\N  1980-onwards  \n",
      "4            \\N          \\N          \\N  1980-onwards  \n",
      "...         ...         ...         ...           ...  \n",
      "1097   21:00:00  2023-10-21    22:00:00  1980-onwards  \n",
      "1098   21:00:00          \\N          \\N  1980-onwards  \n",
      "1099   18:00:00  2023-11-04    18:30:00  1980-onwards  \n",
      "1100   08:00:00          \\N          \\N  1980-onwards  \n",
      "1101   14:00:00          \\N          \\N  1980-onwards  \n",
      "\n",
      "[1102 rows x 19 columns]\n"
     ]
    }
   ],
   "source": [
    "# Write your own code\n",
    "\n",
    "df_race = pd.read_csv(\"data_raw/races.csv\")\n",
    "bins = [1950, 1965, 1980, float('inf')]\n",
    "labels = [\"1950-1965\", \"1966-1980\", \"1980-onwards\"]\n",
    "df_race[\"year_brackets\"] = pd.cut(df_race[\"year\"], bins=bins, labels=labels, include_lowest=True, right=False)\n",
    "\n",
    "print(df_race)\n"
   ]
  },
  {
   "attachments": {},
   "cell_type": "markdown",
   "metadata": {},
   "source": [
    "<font size = \"5\">\n",
    "\n",
    "(d) Aggregate and sort\n",
    "\n",
    "<font size = \"3\">\n",
    "\n",
    "- Import the \"data_raw/sprint_results.csv\" file\n",
    "- Obtain the maximum of \"laps\" by \"driverId\" <br> \n",
    "using ``` .groupby().agg() ```\n",
    "- Sort the teams in descending order using of <br>\n",
    "the maximum of laps using ``` .sort_values() ```"
   ]
  },
  {
   "cell_type": "code",
   "execution_count": 7,
   "metadata": {},
   "outputs": [
    {
     "name": "stdout",
     "output_type": "stream",
     "text": [
      "    driverId  max_laps\n",
      "0          1        24\n",
      "1          4        24\n",
      "22       854        24\n",
      "21       853        24\n",
      "20       852        24\n",
      "19       849        24\n",
      "17       847        24\n",
      "16       846        24\n",
      "15       844        24\n",
      "14       842        24\n",
      "13       841        24\n",
      "12       840        24\n",
      "11       839        24\n",
      "10       832        24\n",
      "9        830        24\n",
      "8        825        24\n",
      "7        822        24\n",
      "6        817        24\n",
      "5        815        24\n",
      "4         20        24\n",
      "2          8        24\n",
      "23       855        24\n",
      "18       848        23\n",
      "3          9        18\n"
     ]
    }
   ],
   "source": [
    "# Write your own code\n",
    "\n",
    "max_laps = df_sprint.groupby('driverId').agg(max_laps=('laps', 'max')).reset_index()\n",
    "df_sorted = max_laps.sort_values(by='max_laps', ascending=False)\n",
    "\n",
    "print(df_sorted)\n"
   ]
  },
  {
   "attachments": {},
   "cell_type": "markdown",
   "metadata": {},
   "source": [
    "<font size = \"5\">\n",
    "\n",
    "(e) Rename column\n",
    "\n",
    "<font size = \"3\">\n",
    "\n",
    "- Import the \"data_raw/sprint_results.csv\" file\n",
    "- Rename the column \"time\" to \"time_unformatted\"\n",
    "\n",
    "HINT: Create a dictionary and use ```.rename(columns = ...)``` <br>\n",
    "See Lecture 15"
   ]
  },
  {
   "cell_type": "code",
   "execution_count": 8,
   "metadata": {},
   "outputs": [
    {
     "name": "stdout",
     "output_type": "stream",
     "text": [
      "     resultId  raceId  driverId  constructorId  number  grid position  \\\n",
      "0           1    1061       830              9      33     2        1   \n",
      "1           2    1061         1            131      44     1        2   \n",
      "2           3    1061       822            131      77     3        3   \n",
      "3           4    1061       844              6      16     4        4   \n",
      "4           5    1061       846              1       4     6        5   \n",
      "..        ...     ...       ...            ...     ...   ...      ...   \n",
      "115       116    1095       840            117      18    15       16   \n",
      "116       117    1095       839            214      31     6       17   \n",
      "117       118    1095         4            214      14     7       18   \n",
      "118       119    1095       849              3       6    16       19   \n",
      "119       120    1095       848              3      23    11       \\N   \n",
      "\n",
      "    positionText  positionOrder  points  laps time_unformatted milliseconds  \\\n",
      "0              1              1       3    17        25:38.426      1538426   \n",
      "1              2              2       2    17           +1.430      1539856   \n",
      "2              3              3       1    17           +7.502      1545928   \n",
      "3              4              4       0    17          +11.278      1549704   \n",
      "4              5              5       0    17          +24.111      1562537   \n",
      "..           ...            ...     ...   ...              ...          ...   \n",
      "115           16             16       0    24          +50.700      1862007   \n",
      "116           17             17       0    24          +51.756      1863063   \n",
      "117           18             18       0    24          +53.985      1865292   \n",
      "118           19             19       0    24        +1:16.850      1888157   \n",
      "119            R             20       0    12               \\N           \\N   \n",
      "\n",
      "    fastestLap fastestLapTime  statusId  \n",
      "0           14       1:30.013         1  \n",
      "1           17       1:29.937         1  \n",
      "2           17       1:29.958         1  \n",
      "3           16       1:30.163         1  \n",
      "4           16       1:30.566         1  \n",
      "..         ...            ...       ...  \n",
      "115          4       1:15.425         1  \n",
      "116          5       1:16.097         1  \n",
      "117          5       1:14.764         1  \n",
      "118          4       1:16.525         1  \n",
      "119          4       1:15.998        31  \n",
      "\n",
      "[120 rows x 16 columns]\n"
     ]
    }
   ],
   "source": [
    "# Write your own code\n",
    "\n",
    "df_sprint_rename = df_sprint.rename(columns={'time': 'time_unformatted'})\n",
    "print(df_sprint_rename)\n"
   ]
  },
  {
   "attachments": {},
   "cell_type": "markdown",
   "metadata": {},
   "source": [
    "<font size = \"5\">\n",
    "\n",
    "(f) Merge dataset\n",
    "\n",
    "<font size = \"3\">\n",
    "\n",
    "- Import the \"data_raw/sprint_results.csv\" and <br>\n",
    "\"data_raw/constructors.csv\" files\n",
    "- Create a new dataset with  ```pd.merge()``` using <br>\n",
    "\"sprint_results\" as the primary dataset, and <br>\n",
    "\"constructors\" as the secondary dataset, merging on <br>\n",
    "the column \"constructorId\"\n",
    "- To get full points **ONLY** merge the \"nationality\" column <br>\n",
    "from the secondary dataset (not all the columns)\n",
    "\n",
    "HINT: Use ```[[...]]``` to extract a subset of columns <br>\n",
    "from the secondary dataset before merging, including the <br>\n",
    "\"constructorId\" column"
   ]
  },
  {
   "cell_type": "code",
   "execution_count": 9,
   "metadata": {},
   "outputs": [
    {
     "name": "stdout",
     "output_type": "stream",
     "text": [
      "     resultId  raceId  driverId  constructorId  number  grid position  \\\n",
      "0           1    1061       830              9      33     2        1   \n",
      "1           2    1061         1            131      44     1        2   \n",
      "2           3    1061       822            131      77     3        3   \n",
      "3           4    1061       844              6      16     4        4   \n",
      "4           5    1061       846              1       4     6        5   \n",
      "..        ...     ...       ...            ...     ...   ...      ...   \n",
      "115       116    1095       840            117      18    15       16   \n",
      "116       117    1095       839            214      31     6       17   \n",
      "117       118    1095         4            214      14     7       18   \n",
      "118       119    1095       849              3       6    16       19   \n",
      "119       120    1095       848              3      23    11       \\N   \n",
      "\n",
      "    positionText  positionOrder  points  laps       time milliseconds  \\\n",
      "0              1              1       3    17  25:38.426      1538426   \n",
      "1              2              2       2    17     +1.430      1539856   \n",
      "2              3              3       1    17     +7.502      1545928   \n",
      "3              4              4       0    17    +11.278      1549704   \n",
      "4              5              5       0    17    +24.111      1562537   \n",
      "..           ...            ...     ...   ...        ...          ...   \n",
      "115           16             16       0    24    +50.700      1862007   \n",
      "116           17             17       0    24    +51.756      1863063   \n",
      "117           18             18       0    24    +53.985      1865292   \n",
      "118           19             19       0    24  +1:16.850      1888157   \n",
      "119            R             20       0    12         \\N           \\N   \n",
      "\n",
      "    fastestLap fastestLapTime  statusId nationality  \n",
      "0           14       1:30.013         1    Austrian  \n",
      "1           17       1:29.937         1      German  \n",
      "2           17       1:29.958         1      German  \n",
      "3           16       1:30.163         1     Italian  \n",
      "4           16       1:30.566         1          UK  \n",
      "..         ...            ...       ...         ...  \n",
      "115          4       1:15.425         1          UK  \n",
      "116          5       1:16.097         1      French  \n",
      "117          5       1:14.764         1      French  \n",
      "118          4       1:16.525         1          UK  \n",
      "119          4       1:15.998        31          UK  \n",
      "\n",
      "[120 rows x 17 columns]\n"
     ]
    }
   ],
   "source": [
    "# Write your own code\n",
    "\n",
    "constructors_subset = df_constructors[['constructorId', 'nationality']]\n",
    "df_merge = pd.merge(df_sprint, constructors_subset, on = \"constructorId\",how = \"left\")\n",
    "\n",
    "print(df_merge)\n",
    "\n"
   ]
  }
 ],
 "metadata": {
  "kernelspec": {
   "display_name": "base",
   "language": "python",
   "name": "python3"
  },
  "language_info": {
   "codemirror_mode": {
    "name": "ipython",
    "version": 3
   },
   "file_extension": ".py",
   "mimetype": "text/x-python",
   "name": "python",
   "nbconvert_exporter": "python",
   "pygments_lexer": "ipython3",
   "version": "3.12.7"
  },
  "orig_nbformat": 4,
  "vscode": {
   "interpreter": {
    "hash": "45fc1f684f6f416f40889115beff3ddf69879b64cf4bfee48cb72a61e9d15d1a"
   }
  }
 },
 "nbformat": 4,
 "nbformat_minor": 2
}
