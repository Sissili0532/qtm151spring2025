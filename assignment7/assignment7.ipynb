{
 "cells": [
  {
   "cell_type": "markdown",
   "metadata": {},
   "source": [
    "# Assignment 7"
   ]
  },
  {
   "cell_type": "markdown",
   "metadata": {},
   "source": [
    "## Submit as an HTML file"
   ]
  },
  {
   "cell_type": "markdown",
   "metadata": {},
   "source": [
    "### Print your name below"
   ]
  },
  {
   "cell_type": "code",
   "execution_count": 1,
   "metadata": {},
   "outputs": [
    {
     "name": "stdout",
     "output_type": "stream",
     "text": [
      "Sissi Li\n"
     ]
    }
   ],
   "source": [
    "print(\"Sissi Li\")"
   ]
  },
  {
   "cell_type": "markdown",
   "metadata": {},
   "source": [
    "### Import the \"pandas\" \"numpy\" and \"statsmodels.formula.api\" libraries"
   ]
  },
  {
   "cell_type": "code",
   "execution_count": 2,
   "metadata": {},
   "outputs": [],
   "source": [
    "# Write your answer here:\n",
    "import numpy as np\n",
    "import pandas as pd\n",
    "import matplotlib.pyplot as plt\n",
    "import statsmodels.formula.api \n"
   ]
  },
  {
   "cell_type": "markdown",
   "metadata": {},
   "source": [
    "#### In the code chunk below read the CSV file named `results.csv` in the `data` <br> folder and print the first 5 rows of the dataset. Browse the dataset."
   ]
  },
  {
   "cell_type": "code",
   "execution_count": 3,
   "metadata": {},
   "outputs": [
    {
     "data": {
      "text/html": [
       "<div>\n",
       "<style scoped>\n",
       "    .dataframe tbody tr th:only-of-type {\n",
       "        vertical-align: middle;\n",
       "    }\n",
       "\n",
       "    .dataframe tbody tr th {\n",
       "        vertical-align: top;\n",
       "    }\n",
       "\n",
       "    .dataframe thead th {\n",
       "        text-align: right;\n",
       "    }\n",
       "</style>\n",
       "<table border=\"1\" class=\"dataframe\">\n",
       "  <thead>\n",
       "    <tr style=\"text-align: right;\">\n",
       "      <th></th>\n",
       "      <th>resultId</th>\n",
       "      <th>raceId</th>\n",
       "      <th>driverId</th>\n",
       "      <th>constructorId</th>\n",
       "      <th>number</th>\n",
       "      <th>grid</th>\n",
       "      <th>position</th>\n",
       "      <th>positionText</th>\n",
       "      <th>positionOrder</th>\n",
       "      <th>points</th>\n",
       "      <th>laps</th>\n",
       "      <th>time</th>\n",
       "      <th>milliseconds</th>\n",
       "      <th>fastestLap</th>\n",
       "      <th>rank</th>\n",
       "      <th>fastestLapTime</th>\n",
       "      <th>fastestLapSpeed</th>\n",
       "      <th>statusId</th>\n",
       "    </tr>\n",
       "  </thead>\n",
       "  <tbody>\n",
       "    <tr>\n",
       "      <th>0</th>\n",
       "      <td>1</td>\n",
       "      <td>18</td>\n",
       "      <td>1</td>\n",
       "      <td>1</td>\n",
       "      <td>22</td>\n",
       "      <td>1</td>\n",
       "      <td>1</td>\n",
       "      <td>1</td>\n",
       "      <td>1</td>\n",
       "      <td>10.0</td>\n",
       "      <td>58</td>\n",
       "      <td>1:34:50.616</td>\n",
       "      <td>5690616</td>\n",
       "      <td>39</td>\n",
       "      <td>2</td>\n",
       "      <td>1:27.452</td>\n",
       "      <td>218.300</td>\n",
       "      <td>1</td>\n",
       "    </tr>\n",
       "    <tr>\n",
       "      <th>1</th>\n",
       "      <td>2</td>\n",
       "      <td>18</td>\n",
       "      <td>2</td>\n",
       "      <td>2</td>\n",
       "      <td>3</td>\n",
       "      <td>5</td>\n",
       "      <td>2</td>\n",
       "      <td>2</td>\n",
       "      <td>2</td>\n",
       "      <td>8.0</td>\n",
       "      <td>58</td>\n",
       "      <td>+5.478</td>\n",
       "      <td>5696094</td>\n",
       "      <td>41</td>\n",
       "      <td>3</td>\n",
       "      <td>1:27.739</td>\n",
       "      <td>217.586</td>\n",
       "      <td>1</td>\n",
       "    </tr>\n",
       "    <tr>\n",
       "      <th>2</th>\n",
       "      <td>3</td>\n",
       "      <td>18</td>\n",
       "      <td>3</td>\n",
       "      <td>3</td>\n",
       "      <td>7</td>\n",
       "      <td>7</td>\n",
       "      <td>3</td>\n",
       "      <td>3</td>\n",
       "      <td>3</td>\n",
       "      <td>6.0</td>\n",
       "      <td>58</td>\n",
       "      <td>+8.163</td>\n",
       "      <td>5698779</td>\n",
       "      <td>41</td>\n",
       "      <td>5</td>\n",
       "      <td>1:28.090</td>\n",
       "      <td>216.719</td>\n",
       "      <td>1</td>\n",
       "    </tr>\n",
       "    <tr>\n",
       "      <th>3</th>\n",
       "      <td>4</td>\n",
       "      <td>18</td>\n",
       "      <td>4</td>\n",
       "      <td>4</td>\n",
       "      <td>5</td>\n",
       "      <td>11</td>\n",
       "      <td>4</td>\n",
       "      <td>4</td>\n",
       "      <td>4</td>\n",
       "      <td>5.0</td>\n",
       "      <td>58</td>\n",
       "      <td>+17.181</td>\n",
       "      <td>5707797</td>\n",
       "      <td>58</td>\n",
       "      <td>7</td>\n",
       "      <td>1:28.603</td>\n",
       "      <td>215.464</td>\n",
       "      <td>1</td>\n",
       "    </tr>\n",
       "    <tr>\n",
       "      <th>4</th>\n",
       "      <td>5</td>\n",
       "      <td>18</td>\n",
       "      <td>5</td>\n",
       "      <td>1</td>\n",
       "      <td>23</td>\n",
       "      <td>3</td>\n",
       "      <td>5</td>\n",
       "      <td>5</td>\n",
       "      <td>5</td>\n",
       "      <td>4.0</td>\n",
       "      <td>58</td>\n",
       "      <td>+18.014</td>\n",
       "      <td>5708630</td>\n",
       "      <td>43</td>\n",
       "      <td>1</td>\n",
       "      <td>1:27.418</td>\n",
       "      <td>218.385</td>\n",
       "      <td>1</td>\n",
       "    </tr>\n",
       "  </tbody>\n",
       "</table>\n",
       "</div>"
      ],
      "text/plain": [
       "   resultId  raceId  driverId  constructorId number  grid position  \\\n",
       "0         1      18         1              1     22     1        1   \n",
       "1         2      18         2              2      3     5        2   \n",
       "2         3      18         3              3      7     7        3   \n",
       "3         4      18         4              4      5    11        4   \n",
       "4         5      18         5              1     23     3        5   \n",
       "\n",
       "  positionText  positionOrder  points  laps         time milliseconds  \\\n",
       "0            1              1    10.0    58  1:34:50.616      5690616   \n",
       "1            2              2     8.0    58       +5.478      5696094   \n",
       "2            3              3     6.0    58       +8.163      5698779   \n",
       "3            4              4     5.0    58      +17.181      5707797   \n",
       "4            5              5     4.0    58      +18.014      5708630   \n",
       "\n",
       "  fastestLap rank fastestLapTime fastestLapSpeed  statusId  \n",
       "0         39    2       1:27.452         218.300         1  \n",
       "1         41    3       1:27.739         217.586         1  \n",
       "2         41    5       1:28.090         216.719         1  \n",
       "3         58    7       1:28.603         215.464         1  \n",
       "4         43    1       1:27.418         218.385         1  "
      ]
     },
     "execution_count": 3,
     "metadata": {},
     "output_type": "execute_result"
    }
   ],
   "source": [
    "df = pd.read_csv(\"data/results.csv\")\n",
    "df.head(5)\n"
   ]
  },
  {
   "cell_type": "markdown",
   "metadata": {},
   "source": [
    "### (a)  Check Column Types and Data Cleaning\n",
    "\n",
    "- Use the function .dtypes to get the column types\n",
    "- Identify which columns have data types that might need conversion\n",
    "- The 'milliseconds' column contains string values that should be numeric. Create a new column called 'race_time_ms' that:\n",
    "    - Converts the column to a numeric data type\n",
    "    - Replaces any non-numeric values with NaN"
   ]
  },
  {
   "cell_type": "code",
   "execution_count": 4,
   "metadata": {},
   "outputs": [
    {
     "name": "stdout",
     "output_type": "stream",
     "text": [
      "resultId             int64\n",
      "raceId               int64\n",
      "driverId             int64\n",
      "constructorId        int64\n",
      "number              object\n",
      "grid                 int64\n",
      "position            object\n",
      "positionText        object\n",
      "positionOrder        int64\n",
      "points             float64\n",
      "laps                 int64\n",
      "time                object\n",
      "milliseconds        object\n",
      "fastestLap          object\n",
      "rank                object\n",
      "fastestLapTime      object\n",
      "fastestLapSpeed     object\n",
      "statusId             int64\n",
      "dtype: object\n",
      "0        5690616\n",
      "1        5696094\n",
      "2        5698779\n",
      "3        5707797\n",
      "4        5708630\n",
      "          ...   \n",
      "25835        NaN\n",
      "25836        NaN\n",
      "25837        NaN\n",
      "25838        NaN\n",
      "25839        NaN\n",
      "Name: milliseconds, Length: 25840, dtype: object\n"
     ]
    }
   ],
   "source": [
    "# Write your answer here\n",
    "df.dtypes\n",
    "print(df.dtypes)\n",
    "\n",
    "subset = df.query(\" milliseconds.str.isnumeric() == False\" )\n",
    "list_old = ['\\\\N']\n",
    "list_new = [np.nan]\n",
    "df[\"milliseconds\"] = df[\"milliseconds\"].replace(list_old, list_new)\n",
    "\n",
    "df[\"race_time_ms\"] = pd.to_numeric(df[\"milliseconds\"])\n",
    "print(df[\"milliseconds\"])\n",
    "\n"
   ]
  },
  {
   "cell_type": "markdown",
   "metadata": {},
   "source": [
    "### (b) Create Categorical Variables\n",
    "\n",
    "- Create a new column called 'finish_category' that categorizes the race finish positions as follows:\n",
    "    - Positions 1-3: 'Podium'\n",
    "    - Positions 4-10: 'Points'\n",
    "    - Positions 11-20: 'Midfield'\n",
    "    - Positions >20: 'Backmarker'\n",
    "\n",
    "Hint: Use the pd.cut() function"
   ]
  },
  {
   "cell_type": "code",
   "execution_count": 5,
   "metadata": {},
   "outputs": [
    {
     "name": "stdout",
     "output_type": "stream",
     "text": [
      "0          Podium\n",
      "1          Podium\n",
      "2          Podium\n",
      "3          Points\n",
      "4          Points\n",
      "           ...   \n",
      "25835    Midfield\n",
      "25836    Midfield\n",
      "25837    Midfield\n",
      "25838    Midfield\n",
      "25839         NaN\n",
      "Name: finish_category, Length: 25840, dtype: category\n",
      "Categories (4, object): ['Podium' < 'Points' < 'Midfield' < 'Backmarker']\n"
     ]
    }
   ],
   "source": [
    "# Write your answer here\n",
    "\n",
    "subset = df.query(\" position.str.isnumeric() == False\" )\n",
    "list_old = ['\\\\N']\n",
    "list_new = [np.nan]\n",
    "df[\"position\"] = df[\"position\"].replace(list_old, list_new)\n",
    "\n",
    "df[\"position_num\"] = pd.to_numeric(df[\"position\"])\n",
    "\n",
    "\n",
    "bins_x = [0,3,10,20,float('inf')]\n",
    "labels_x = [\"Podium\",\n",
    "            \"Points\",\n",
    "            \"Midfield\",\n",
    "            \"Backmarker\"]\n",
    "\n",
    "df[\"finish_category\"] = pd.cut(df[\"position_num\"],\n",
    "                              bins = bins_x,\n",
    "                              right = True,\n",
    "                              labels = labels_x)\n",
    "\n",
    "print(df[\"finish_category\"])\n",
    "\n",
    "\n"
   ]
  },
  {
   "cell_type": "markdown",
   "metadata": {},
   "source": [
    "### (c) Calculate Race Duration\n",
    "- For rows where 'milliseconds' is available, create a new column <br>\n",
    "'race_duration_minutes' that converts milliseconds to minutes by dividing <br>\n",
    "by (1000*60).\n",
    "- Display the average race duration by 'constructorId' for the top 5 <br>\n",
    "constructors with the shortest average race times"
   ]
  },
  {
   "cell_type": "code",
   "execution_count": 6,
   "metadata": {},
   "outputs": [
    {
     "name": "stdout",
     "output_type": "stream",
     "text": [
      "constructorId\n",
      "35    76.710777\n",
      "29    77.604125\n",
      "41    87.046767\n",
      "16    89.428828\n",
      "53    89.658852\n",
      "Name: race_duration_minutes, dtype: float64\n"
     ]
    }
   ],
   "source": [
    "# Write your answer here\n",
    "\n",
    "subset = df.query(\" milliseconds.str.isnumeric() == False\" )\n",
    "list_old = ['\\\\N']\n",
    "list_new = [np.nan]\n",
    "df[\"milliseconds\"] = df[\"milliseconds\"].replace(list_old, list_new)\n",
    "df[\"millisecons_num\"] = pd.to_numeric(df[\"milliseconds\"])\n",
    "\n",
    "df['race_duration_minutes'] = df['millisecons_num'] / (1000 * 60)\n",
    "\n",
    "average_race_duration = df.groupby('constructorId')['race_duration_minutes'].mean()\n",
    "\n",
    "top_5_constructors = average_race_duration.nsmallest(5)\n",
    "print(top_5_constructors)\n",
    "\n"
   ]
  },
  {
   "cell_type": "markdown",
   "metadata": {},
   "source": [
    "### (d) Driver Performance Analysis\n",
    "\n",
    "- Calculate the following statistics for each driver, grouped by 'driverId':\n",
    "    - Average finishing position\n",
    "    - Total points\n",
    "    - Number of races completed\n",
    "    - Best finishing position\n",
    "\n",
    "- Sort the results by total points in descending order\n",
    "- Display the top 10 drivers based on total points"
   ]
  },
  {
   "cell_type": "code",
   "execution_count": 7,
   "metadata": {},
   "outputs": [
    {
     "name": "stdout",
     "output_type": "stream",
     "text": [
      "          average_finishing_position  total_points  number_of_race_completed  \\\n",
      "driverId                                                                       \n",
      "1                           3.383803        4396.5                       310   \n",
      "20                          5.282443        3098.0                       300   \n",
      "4                           6.257732        2061.0                       358   \n",
      "830                         4.022388        1983.5                       163   \n",
      "8                           6.238596        1873.0                       352   \n",
      "822                         6.296089        1778.0                       201   \n",
      "3                           6.355932        1594.5                       206   \n",
      "30                          3.701245        1566.0                       308   \n",
      "817                         8.261538        1307.0                       232   \n",
      "18                          7.409091        1235.0                       309   \n",
      "\n",
      "          best_finishing_position  \n",
      "driverId                           \n",
      "1                             1.0  \n",
      "20                            1.0  \n",
      "4                             1.0  \n",
      "830                           1.0  \n",
      "8                             1.0  \n",
      "822                           1.0  \n",
      "3                             1.0  \n",
      "30                            1.0  \n",
      "817                           1.0  \n",
      "18                            1.0  \n"
     ]
    }
   ],
   "source": [
    "# Write your answer here\n",
    "driver_stats = (df.groupby(  [\"driverId\"]    )\n",
    "                       .agg(average_finishing_position = ('position_num','mean'),\n",
    "                            total_points =   ('points',\"sum\"),\n",
    "                            number_of_race_completed = ('raceId',\"count\"),\n",
    "                            best_finishing_position   = ('position_num',\"min\")))\n",
    "\n",
    "driver_stats = driver_stats.sort_values(by='total_points', ascending=False)\n",
    "top_10_drivers = driver_stats.head(10)\n",
    "print(top_10_drivers)\n"
   ]
  },
  {
   "cell_type": "markdown",
   "metadata": {},
   "source": [
    "### (e) Linear Regression\n",
    "Create a linear regression model that predicts 'points' based on 'grid' (starting position) and 'laps' completed <br>\n",
    "Use the following steps:\n",
    "\n",
    "- Clean the data to remove any non-numeric values and missing values\n",
    "- Create the regression formula using smf.ols \n",
    "- Display the summary of the regression model using model.summary()\n",
    "\n",
    "What is the predicted points for a driver starting in position 3 and completing 55 laps?\n",
    "\n",
    "Hint: Use ```.dropna()''' to remove missing values from the points, grid, and laps <br>\n",
    "variables."
   ]
  },
  {
   "cell_type": "code",
   "execution_count": 8,
   "metadata": {},
   "outputs": [
    {
     "name": "stdout",
     "output_type": "stream",
     "text": [
      "                            OLS Regression Results                            \n",
      "==============================================================================\n",
      "Dep. Variable:           points_clean   R-squared:                       0.232\n",
      "Model:                            OLS   Adj. R-squared:                  0.232\n",
      "Method:                 Least Squares   F-statistic:                     1070.\n",
      "Date:                Sat, 22 Mar 2025   Prob (F-statistic):               0.00\n",
      "Time:                        23:12:41   Log-Likelihood:                -21701.\n",
      "No. Observations:                7083   AIC:                         4.341e+04\n",
      "Df Residuals:                    7080   BIC:                         4.343e+04\n",
      "Df Model:                           2                                         \n",
      "Covariance Type:            nonrobust                                         \n",
      "==============================================================================\n",
      "                 coef    std err          t      P>|t|      [0.025      0.975]\n",
      "------------------------------------------------------------------------------\n",
      "Intercept     10.1445      0.192     52.702      0.000       9.767      10.522\n",
      "grid_clean    -0.5274      0.011    -46.174      0.000      -0.550      -0.505\n",
      "laps_clean    -0.0004      0.003     -0.165      0.869      -0.006       0.005\n",
      "==============================================================================\n",
      "Omnibus:                     1855.137   Durbin-Watson:                   0.913\n",
      "Prob(Omnibus):                  0.000   Jarque-Bera (JB):             4538.335\n",
      "Skew:                           1.446   Prob(JB):                         0.00\n",
      "Kurtosis:                       5.649   Cond. No.                         210.\n",
      "==============================================================================\n",
      "\n",
      "Notes:\n",
      "[1] Standard Errors assume that the covariance matrix of the errors is correctly specified.\n"
     ]
    }
   ],
   "source": [
    "# Write your answer here\n",
    "\n",
    "list_old = ['\\\\N']\n",
    "list_new = [np.nan]\n",
    "df[\"points_clean\"] = df[\"points\"].replace(list_old, list_new) #already numeric \n",
    "df[\"grid_clean\"] = df[\"grid\"].replace(list_old, list_new) #already numeric\n",
    "df[\"laps_clean\"] = df[\"laps\"].replace(list_old, list_new) #aleady numeric\n",
    "df = df.dropna() \n",
    "\n",
    "model = statsmodels.formula.api.ols('points_clean ~ grid_clean + laps_clean', data=df).fit()\n",
    "print(model.summary())\n",
    "\n",
    "predicted = pd.DataFrame({'grid_clean': [3], 'laps_clean': [55]})\n",
    "predicted_points = model.predict(predicted)\n",
    "\n",
    "\n",
    "\n",
    "\n"
   ]
  }
 ],
 "metadata": {
  "kernelspec": {
   "display_name": "base",
   "language": "python",
   "name": "python3"
  },
  "language_info": {
   "codemirror_mode": {
    "name": "ipython",
    "version": 3
   },
   "file_extension": ".py",
   "mimetype": "text/x-python",
   "name": "python",
   "nbconvert_exporter": "python",
   "pygments_lexer": "ipython3",
   "version": "3.12.7"
  }
 },
 "nbformat": 4,
 "nbformat_minor": 2
}
